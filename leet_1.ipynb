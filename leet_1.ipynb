{
 "cells": [
  {
   "cell_type": "code",
   "execution_count": 2,
   "metadata": {},
   "outputs": [
    {
     "name": "stdout",
     "output_type": "stream",
     "text": [
      "1 2 3 4 5\n",
      "7\n",
      "Pair with given sum 7 is (4, 3)\n",
      "Pair with given sum 7 is (5, 2)\n"
     ]
    }
   ],
   "source": [
    "#https://leetcode.com/problems/two-sum/\n",
    "#Runtime 6.24ms\n",
    "\n",
    "def pairs(arr, arr_size, num): \n",
    "    s = set() \n",
    "    for i in range(0, arr_size): \n",
    "        temp = num-arr[i] \n",
    "        if (temp in s): \n",
    "            print(\"Pair with given sum \"+ str(num) + \" is (\" + str(arr[i]) + \", \" + str(temp) + \")\")\n",
    "        s.add(arr[i]) \n",
    "        \n",
    "arr = list(map(int, input().split()))\n",
    "sumNum = int(input())\n",
    "\n",
    "pairs(arr, len(arr), sumNum)"
   ]
  },
  {
   "cell_type": "code",
   "execution_count": null,
   "metadata": {},
   "outputs": [],
   "source": []
  }
 ],
 "metadata": {
  "kernelspec": {
   "display_name": "Python 3",
   "language": "python",
   "name": "python3"
  },
  "language_info": {
   "codemirror_mode": {
    "name": "ipython",
    "version": 3
   },
   "file_extension": ".py",
   "mimetype": "text/x-python",
   "name": "python",
   "nbconvert_exporter": "python",
   "pygments_lexer": "ipython3",
   "version": "3.7.3"
  }
 },
 "nbformat": 4,
 "nbformat_minor": 2
}
